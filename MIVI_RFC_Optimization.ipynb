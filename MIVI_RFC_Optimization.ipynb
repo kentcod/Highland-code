{
 "cells": [
  {
   "cell_type": "code",
   "execution_count": 1,
   "id": "68e27836-bf83-478c-a127-64725757b160",
   "metadata": {
    "tags": []
   },
   "outputs": [],
   "source": [
    "import pandas as pd\n",
    "import numpy as np"
   ]
  },
  {
   "cell_type": "code",
   "execution_count": 2,
   "id": "34766172-a1db-45f1-9eb5-66f61bbf10d5",
   "metadata": {
    "tags": []
   },
   "outputs": [],
   "source": [
    "#read in CSVs for EAF., distance from Riparian Buf, forest age/type\n",
    "\n",
    "path = 'Beyond450_EAF_avg_ExportTable.csv' \n",
    "Beyond450_EAF = pd.read_csv(path)\n",
    "EAF = pd.read_csv(\"Compartment_avgEAF.csv\")\n",
    "dist_from_RB = pd.read_csv(\"Compartment_avgDistance_RB.csv\")\n",
    "conversion_1937_1957 = pd.read_csv(\"conversion_1937_1957.csv\")\n",
    "conversion_1957_1974 = pd.read_csv(\"conversion_1957_1974.csv\")\n",
    "conversion_1974_1996 = pd.read_csv(\"conversion_1974_1996.csv\")\n",
    "evergreen = pd.read_csv(\"evergreen.csv\")"
   ]
  },
  {
   "cell_type": "code",
   "execution_count": 3,
   "id": "1304af06-8720-492b-8e7a-e3ce4d2ffc0d",
   "metadata": {},
   "outputs": [],
   "source": [
    "# read in CSV for overall inv. supervised data with farmland, riparian features to append former data to\n",
    "\n",
    "invasion = pd.read_csv(\"Compartment_Inva_ExportTable.csv\")"
   ]
  },
  {
   "cell_type": "code",
   "execution_count": 4,
   "id": "5ee31bf5-de2a-47cd-8904-72c0a6a44a1c",
   "metadata": {
    "tags": []
   },
   "outputs": [
    {
     "data": {
      "text/html": [
       "<div>\n",
       "<style scoped>\n",
       "    .dataframe tbody tr th:only-of-type {\n",
       "        vertical-align: middle;\n",
       "    }\n",
       "\n",
       "    .dataframe tbody tr th {\n",
       "        vertical-align: top;\n",
       "    }\n",
       "\n",
       "    .dataframe thead th {\n",
       "        text-align: right;\n",
       "    }\n",
       "</style>\n",
       "<table border=\"1\" class=\"dataframe\">\n",
       "  <thead>\n",
       "    <tr style=\"text-align: right;\">\n",
       "      <th></th>\n",
       "      <th>Distance_Riparian_Buffer</th>\n",
       "      <th>Distance_Farmland</th>\n",
       "      <th>HID</th>\n",
       "      <th>overall_in</th>\n",
       "      <th>individual</th>\n",
       "    </tr>\n",
       "  </thead>\n",
       "  <tbody>\n",
       "    <tr>\n",
       "      <th>0</th>\n",
       "      <td>136.620988</td>\n",
       "      <td>0.0</td>\n",
       "      <td>252.0</td>\n",
       "      <td>25-50%</td>\n",
       "      <td>MIVI-3,LOJA-2,ELUM-1,ROMU-1,LISE-1,CEOR-2,BETH...</td>\n",
       "    </tr>\n",
       "    <tr>\n",
       "      <th>1</th>\n",
       "      <td>-1.000000</td>\n",
       "      <td>0.0</td>\n",
       "      <td>253.0</td>\n",
       "      <td>75-100%</td>\n",
       "      <td>MIVI-4,CEOR-4,LISE-1,LOJA-1,RUPH-1,ALJU-1</td>\n",
       "    </tr>\n",
       "    <tr>\n",
       "      <th>2</th>\n",
       "      <td>137.086561</td>\n",
       "      <td>0.0</td>\n",
       "      <td>254.0</td>\n",
       "      <td>50-75%</td>\n",
       "      <td>MIVI-4,CEOR-3,LISE-1,RUPH-1,ELUM-1,LOJA-1,ROMU-1</td>\n",
       "    </tr>\n",
       "    <tr>\n",
       "      <th>3</th>\n",
       "      <td>137.086530</td>\n",
       "      <td>0.0</td>\n",
       "      <td>255.0</td>\n",
       "      <td>50-75%</td>\n",
       "      <td>MIVI-4,CEOR-3,RUPH-3,LOJA-1,ALJU-1,CIVU-2,LISE-2</td>\n",
       "    </tr>\n",
       "    <tr>\n",
       "      <th>4</th>\n",
       "      <td>137.107700</td>\n",
       "      <td>0.0</td>\n",
       "      <td>256.0</td>\n",
       "      <td>50-75%</td>\n",
       "      <td>MIVI-3,LISE-2,CEOR-3,RUPH-2,PATO-1,LOJA-2,RUCR...</td>\n",
       "    </tr>\n",
       "  </tbody>\n",
       "</table>\n",
       "</div>"
      ],
      "text/plain": [
       "   Distance_Riparian_Buffer  Distance_Farmland    HID overall_in  \\\n",
       "0                136.620988                0.0  252.0     25-50%   \n",
       "1                 -1.000000                0.0  253.0    75-100%   \n",
       "2                137.086561                0.0  254.0     50-75%   \n",
       "3                137.086530                0.0  255.0     50-75%   \n",
       "4                137.107700                0.0  256.0     50-75%   \n",
       "\n",
       "                                          individual  \n",
       "0  MIVI-3,LOJA-2,ELUM-1,ROMU-1,LISE-1,CEOR-2,BETH...  \n",
       "1          MIVI-4,CEOR-4,LISE-1,LOJA-1,RUPH-1,ALJU-1  \n",
       "2   MIVI-4,CEOR-3,LISE-1,RUPH-1,ELUM-1,LOJA-1,ROMU-1  \n",
       "3   MIVI-4,CEOR-3,RUPH-3,LOJA-1,ALJU-1,CIVU-2,LISE-2  \n",
       "4  MIVI-3,LISE-2,CEOR-3,RUPH-2,PATO-1,LOJA-2,RUCR...  "
      ]
     },
     "execution_count": 4,
     "metadata": {},
     "output_type": "execute_result"
    }
   ],
   "source": [
    "# get rid of unnecessary columns for ML\n",
    "\n",
    "df = invasion.iloc[:,[2,5,10,20,21]]\n",
    "df.head()"
   ]
  },
  {
   "cell_type": "code",
   "execution_count": 5,
   "id": "62d7d9b1-512f-47d8-875f-2fe430e03a49",
   "metadata": {
    "tags": []
   },
   "outputs": [],
   "source": [
    "# clean data from CSVs, add to df\n",
    "## start with dist_from_RB \n",
    "dist_floodplain = []\n",
    "EAF_list = []\n",
    "for i in range(df.shape[0]): \n",
    "    #iterate over range of num rows of df\n",
    "    \n",
    "    HID = df.iloc[i,2] \n",
    "    #find the compartment ID for current iteration\n",
    "    \n",
    "    idx = dist_from_RB.index[dist_from_RB['HID'] == HID] \n",
    "    #find which index of dist_from_RB equals current HID iteration\n",
    "    \n",
    "    mean_distance = dist_from_RB.at[idx[0], 'MEAN_Distance_From_RB']\n",
    "    #retrieves value from mean d col at row specified by idx\n",
    "    \n",
    "    dist_floodplain.append(mean_distance * 3.28) \n",
    "    #meters to feet formula\n",
    "\n",
    "for i in range(df.shape[0]): #same proc for EAF\n",
    "    HID = df.iloc[i,2] \n",
    "    idx = EAF.index[EAF['HID'] == HID] #find which index of overall EAF equals current HID iteration\n",
    "    mean_EAF = EAF.at[idx[0], 'MEAN_EAF'] #retrieves value from mean d col at row specified by idx\n",
    "    EAF_list.append(mean_EAF)"
   ]
  },
  {
   "cell_type": "code",
   "execution_count": 6,
   "id": "bbd19f02-e6e0-4541-9e84-7e046928b520",
   "metadata": {
    "tags": []
   },
   "outputs": [
    {
     "data": {
      "text/html": [
       "<div>\n",
       "<style scoped>\n",
       "    .dataframe tbody tr th:only-of-type {\n",
       "        vertical-align: middle;\n",
       "    }\n",
       "\n",
       "    .dataframe tbody tr th {\n",
       "        vertical-align: top;\n",
       "    }\n",
       "\n",
       "    .dataframe thead th {\n",
       "        text-align: right;\n",
       "    }\n",
       "</style>\n",
       "<table border=\"1\" class=\"dataframe\">\n",
       "  <thead>\n",
       "    <tr style=\"text-align: right;\">\n",
       "      <th></th>\n",
       "      <th>Distance_Riparian_Buffer</th>\n",
       "      <th>Distance_Farmland</th>\n",
       "      <th>HID</th>\n",
       "      <th>overall_in</th>\n",
       "      <th>individual</th>\n",
       "      <th>EAF</th>\n",
       "      <th>Dist_Floodplain</th>\n",
       "    </tr>\n",
       "  </thead>\n",
       "  <tbody>\n",
       "    <tr>\n",
       "      <th>0</th>\n",
       "      <td>136.620988</td>\n",
       "      <td>0.0</td>\n",
       "      <td>252.0</td>\n",
       "      <td>25-50%</td>\n",
       "      <td>MIVI-3,LOJA-2,ELUM-1,ROMU-1,LISE-1,CEOR-2,BETH...</td>\n",
       "      <td>38.745098</td>\n",
       "      <td>814.578296</td>\n",
       "    </tr>\n",
       "    <tr>\n",
       "      <th>1</th>\n",
       "      <td>300.000000</td>\n",
       "      <td>0.0</td>\n",
       "      <td>253.0</td>\n",
       "      <td>75-100%</td>\n",
       "      <td>MIVI-4,CEOR-4,LISE-1,LOJA-1,RUPH-1,ALJU-1</td>\n",
       "      <td>58.200000</td>\n",
       "      <td>1281.677749</td>\n",
       "    </tr>\n",
       "    <tr>\n",
       "      <th>2</th>\n",
       "      <td>137.086561</td>\n",
       "      <td>0.0</td>\n",
       "      <td>254.0</td>\n",
       "      <td>50-75%</td>\n",
       "      <td>MIVI-4,CEOR-3,LISE-1,RUPH-1,ELUM-1,LOJA-1,ROMU-1</td>\n",
       "      <td>42.064516</td>\n",
       "      <td>898.304107</td>\n",
       "    </tr>\n",
       "    <tr>\n",
       "      <th>3</th>\n",
       "      <td>137.086530</td>\n",
       "      <td>0.0</td>\n",
       "      <td>255.0</td>\n",
       "      <td>50-75%</td>\n",
       "      <td>MIVI-4,CEOR-3,RUPH-3,LOJA-1,ALJU-1,CIVU-2,LISE-2</td>\n",
       "      <td>36.842105</td>\n",
       "      <td>646.795242</td>\n",
       "    </tr>\n",
       "    <tr>\n",
       "      <th>4</th>\n",
       "      <td>137.107700</td>\n",
       "      <td>0.0</td>\n",
       "      <td>256.0</td>\n",
       "      <td>50-75%</td>\n",
       "      <td>MIVI-3,LISE-2,CEOR-3,RUPH-2,PATO-1,LOJA-2,RUCR...</td>\n",
       "      <td>35.789474</td>\n",
       "      <td>578.104646</td>\n",
       "    </tr>\n",
       "  </tbody>\n",
       "</table>\n",
       "</div>"
      ],
      "text/plain": [
       "   Distance_Riparian_Buffer  Distance_Farmland    HID overall_in  \\\n",
       "0                136.620988                0.0  252.0     25-50%   \n",
       "1                300.000000                0.0  253.0    75-100%   \n",
       "2                137.086561                0.0  254.0     50-75%   \n",
       "3                137.086530                0.0  255.0     50-75%   \n",
       "4                137.107700                0.0  256.0     50-75%   \n",
       "\n",
       "                                          individual        EAF  \\\n",
       "0  MIVI-3,LOJA-2,ELUM-1,ROMU-1,LISE-1,CEOR-2,BETH...  38.745098   \n",
       "1          MIVI-4,CEOR-4,LISE-1,LOJA-1,RUPH-1,ALJU-1  58.200000   \n",
       "2   MIVI-4,CEOR-3,LISE-1,RUPH-1,ELUM-1,LOJA-1,ROMU-1  42.064516   \n",
       "3   MIVI-4,CEOR-3,RUPH-3,LOJA-1,ALJU-1,CIVU-2,LISE-2  36.842105   \n",
       "4  MIVI-3,LISE-2,CEOR-3,RUPH-2,PATO-1,LOJA-2,RUCR...  35.789474   \n",
       "\n",
       "   Dist_Floodplain  \n",
       "0       814.578296  \n",
       "1      1281.677749  \n",
       "2       898.304107  \n",
       "3       646.795242  \n",
       "4       578.104646  "
      ]
     },
     "execution_count": 6,
     "metadata": {},
     "output_type": "execute_result"
    }
   ],
   "source": [
    "# fix dist_floodplain values for PW buffer HIDs\n",
    "\n",
    "for i in range(df.shape[0]):\n",
    "    if(df.iloc[i,2] >= 80 and df.iloc[i,2] <= 246):\n",
    "        dist_floodplain[i] = 300\n",
    "for i in range(df.shape[0]):\n",
    "    if(df.iloc[i,2] <= 79):\n",
    "        dist_floodplain[i] = 0\n",
    "\n",
    "# assign riparian buffer distance to 300 meters if not within 450 ft of pw buffer\n",
    "for i in range(df.shape[0]):\n",
    "    if(df.iloc[i,0] == -1):\n",
    "        df.iloc[i,0] = 300\n",
    "        \n",
    "# assign new FP dist and EAF lists to df\n",
    "df = df.assign(EAF = EAF_list)\n",
    "df = df.assign(Dist_Floodplain = dist_floodplain)\n",
    "df.head()"
   ]
  },
  {
   "cell_type": "code",
   "execution_count": 7,
   "id": "4457d666-dde9-4f30-a3e3-b0592c1a096d",
   "metadata": {
    "tags": []
   },
   "outputs": [],
   "source": [
    "# add in converted forest\n",
    "con_37 = [] ## create empty list for each forest conversion\n",
    "con_57 = []\n",
    "con_74 = []\n",
    "for i in range(df.shape[0]):\n",
    "    HID = df.iloc[i,2]\n",
    "    if(any(HID == conversion_1937_1957['HID'])): \n",
    "        #if the current HID exists in converted forest df\n",
    "        \n",
    "        idx = conversion_1937_1957['HID'] ==  HID\n",
    "        con_37.append(float(conversion_1937_1957[idx]['PERCENTAGE']))\n",
    "        #extract series from idx in conv forest df then convert to percentage float\n",
    "        \n",
    "    else:\n",
    "        con_37.append(0) \n",
    "        #if tabulate overlay did not overlap with any conv forest, overlay is 0 percent\n",
    "        \n",
    "    if(any(HID == conversion_1957_1974['HID'])): \n",
    "        \n",
    "        #same procedure for other conv forest dfs\n",
    "        idx = conversion_1957_1974['HID'] ==  HID\n",
    "        con_57.append(float(conversion_1957_1974[idx]['PERCENTAGE'])) \n",
    "    else:\n",
    "        con_57.append(0)\n",
    "    if(any(HID == conversion_1974_1996['HID'])): \n",
    "        \n",
    "        #same procedure for other conv forest dfs\n",
    "        idx = conversion_1974_1996['HID'] ==  HID\n",
    "        con_74.append(float(conversion_1974_1996[idx]['PERCENTAGE'])) \n",
    "    else:\n",
    "        con_74.append(0)\n",
    "df = df.assign(conversion_1937_1957=con_37) \n",
    "#assign new column to list with percentages\n",
    "df = df.assign(conversion_1957_1974=con_57)\n",
    "df = df.assign(conversion_1974_1996=con_74)"
   ]
  },
  {
   "cell_type": "code",
   "execution_count": 8,
   "id": "135316eb-83c0-49ad-bd21-b1ad00acf68c",
   "metadata": {
    "tags": []
   },
   "outputs": [],
   "source": [
    "#evergreen forest\n",
    "eg = []\n",
    "for i in range(df.shape[0]):\n",
    "    HID = df.iloc[i,2]\n",
    "    if(any(HID == evergreen['HID'])): \n",
    "        #if the current HID exists in converted forest df\n",
    "        idx = evergreen['HID'] ==  HID\n",
    "        eg.append(float(evergreen[idx]['PERCENTAGE'])) \n",
    "        #extract series from idx in conv forest df then convert to percentage float\n",
    "    else:\n",
    "        eg.append(0)\n",
    "df = df.assign(evergreen_forest = eg)"
   ]
  },
  {
   "cell_type": "code",
   "execution_count": 9,
   "id": "60672b5e-8cda-4f11-b46a-c70bfb704eb1",
   "metadata": {
    "tags": []
   },
   "outputs": [],
   "source": [
    "# percentage ranges to numeric, cover class values\n",
    "percentage = {'5-25%': 2, '25-50%': 3, '50-75%': 4, '75-100%': 5}\n",
    "numeric_values = []\n",
    "\n",
    "for p in df['overall_in']:\n",
    "    #convert the percentage range to a numeric value\n",
    "    numeric_value = percentage.get(p)\n",
    "    numeric_values.append(numeric_value)\n",
    "    \n",
    "# add new column with numeric values\n",
    "df['overall_numeric'] = numeric_values"
   ]
  },
  {
   "cell_type": "markdown",
   "id": "d8570110-164d-421e-a2d2-5df976d7436e",
   "metadata": {},
   "source": [
    "# Create MIVI column in df"
   ]
  },
  {
   "cell_type": "code",
   "execution_count": 10,
   "id": "6dfa52ab-a332-4829-9cad-5334fd4f4627",
   "metadata": {
    "tags": []
   },
   "outputs": [],
   "source": [
    "# create new column containing MIVI cover class\n",
    "\n",
    "MIVI = []\n",
    "for i in range(df.shape[0]):\n",
    "    if 'MIVI-4' in df.iloc[i, 4]:\n",
    "        MIVI.append(4)\n",
    "    if 'MIVI-3' in df.iloc[i, 4]:\n",
    "        MIVI.append(3)\n",
    "    if 'MIVI-2' in df.iloc[i, 4]:\n",
    "        MIVI.append(2)\n",
    "    if 'MIVI-1' in df.iloc[i, 4]:\n",
    "        MIVI.append(1)\n",
    "    if not('MIVI' in df.iloc[i, 4]):\n",
    "        MIVI.append(0)"
   ]
  },
  {
   "cell_type": "code",
   "execution_count": 11,
   "id": "ec5ad733-a583-49c7-a577-6ba4e00be229",
   "metadata": {
    "tags": []
   },
   "outputs": [
    {
     "data": {
      "text/plain": [
       "13"
      ]
     },
     "execution_count": 11,
     "metadata": {},
     "output_type": "execute_result"
    }
   ],
   "source": [
    "df['MIVI'] = MIVI\n",
    "idx = df[\"Distance_Riparian_Buffer\"] == 300\n",
    "tempdf = df[idx]\n",
    "df.shape[1] #should have added a 13 column"
   ]
  },
  {
   "cell_type": "markdown",
   "id": "e65facbc-c8e4-4d68-a215-6ababede7930",
   "metadata": {},
   "source": [
    "# Check for Linear Relationships between features and target (MIVI)"
   ]
  },
  {
   "cell_type": "code",
   "execution_count": 12,
   "id": "8b9de272-f1ff-41ff-89c6-11cf44199565",
   "metadata": {
    "tags": []
   },
   "outputs": [
    {
     "data": {
      "image/png": "[encoded data removed]",
      "text/plain": [
       "<Figure size 640x480 with 1 Axes>"
      ]
     },
     "metadata": {},
     "output_type": "display_data"
    }
   ],
   "source": [
    "import matplotlib.pyplot as plt\n",
    "from sklearn.linear_model import LinearRegression\n",
    "from sklearn.metrics import r2_score\n",
    "\n",
    "plt.scatter(df[\"EAF\"], df[\"MIVI\"])\n",
    "# Fit a linear regression model\n",
    "X = df[\"EAF\"].values.reshape(-1, 1)\n",
    "y = df[\"MIVI\"].values\n",
    "reg = LinearRegression()\n",
    "reg.fit(X, y)\n",
    "\n",
    "# Predict values using the linear regression model\n",
    "y_pred = reg.predict(X)\n",
    "\n",
    "# Plot the line of best fit\n",
    "plt.plot(X, y_pred, color='red', linewidth=2, label='Linear Regression Line')\n",
    "\n",
    "# Calculate the R-squared value\n",
    "r_squared = r2_score(y, y_pred)\n",
    "\n",
    "# Add the R-squared value to the plot\n",
    "plt.annotate(f'R-squared = {r_squared:.2f}', xy=(0.1, 0.9), xycoords='axes fraction', fontsize=12)\n",
    "\n",
    "# Add labels and a legend\n",
    "plt.xlabel(\"EAF\")\n",
    "plt.ylabel(\"Invasive Cover Class\")\n",
    "plt.title(\"EAF vs MIVI\")\n",
    "plt.legend()\n",
    "\n",
    "# Show the plot\n",
    "plt.show()"
   ]
  },
  {
   "cell_type": "code",
   "execution_count": 13,
   "id": "f161db7d-ecf0-4b97-b7d7-75ccdbca9bb4",
   "metadata": {
    "tags": []
   },
   "outputs": [
    {
     "data": {
      "image/png": "[encoded data removed]",
      "text/plain": [
       "<Figure size 640x480 with 1 Axes>"
      ]
     },
     "metadata": {},
     "output_type": "display_data"
    }
   ],
   "source": [
    "# now look at trend difference without riparian buffer\n",
    "\n",
    "plt.scatter(tempdf[\"EAF\"], tempdf[\"MIVI\"])\n",
    "\n",
    "X = tempdf[\"EAF\"].values.reshape(-1, 1)\n",
    "y = tempdf[\"MIVI\"].values\n",
    "reg = LinearRegression()\n",
    "reg.fit(X, y)\n",
    "\n",
    "y_pred = reg.predict(X)\n",
    "\n",
    "plt.plot(X, y_pred, color='red', linewidth=2, label='Linear Regression Line')\n",
    "\n",
    "r_squared = r2_score(y, y_pred)\n",
    "\n",
    "plt.annotate(f'R-squared = {r_squared:.2f}', xy=(0.1, 0.9), xycoords='axes fraction', fontsize=12)\n",
    "\n",
    "plt.xlabel(\"EAF\")\n",
    "plt.ylabel(\"Invasive Cover Class\")\n",
    "plt.title(\"EAF vs MIVI without RB\")\n",
    "plt.legend()\n",
    "\n",
    "plt.show()"
   ]
  },
  {
   "cell_type": "code",
   "execution_count": 14,
   "id": "89d736ba-4202-4d12-832c-2804f3d391c7",
   "metadata": {
    "tags": []
   },
   "outputs": [
    {
     "data": {
      "image/png": "[encoded data removed]",
      "text/plain": [
       "<Figure size 640x480 with 1 Axes>"
      ]
     },
     "metadata": {},
     "output_type": "display_data"
    }
   ],
   "source": [
    "plt.scatter(df[\"Dist_Floodplain\"], df[\"MIVI\"])\n",
    "\n",
    "X = df[\"Dist_Floodplain\"].values.reshape(-1, 1)\n",
    "y = df[\"MIVI\"].values\n",
    "reg = LinearRegression()\n",
    "reg.fit(X, y)\n",
    "\n",
    "y_pred = reg.predict(X)\n",
    "\n",
    "plt.plot(X, y_pred, color='red', linewidth=2, label='Linear Regression Line')\n",
    "\n",
    "r_squared = r2_score(y, y_pred)\n",
    "\n",
    "plt.annotate(f'R-squared = {r_squared:.2f}', xy=(0.1, 0.9), xycoords='axes fraction', fontsize=12)\n",
    "\n",
    "plt.xlabel(\"Dist_Floodplain\")\n",
    "plt.ylabel(\"Invasive Cover Class\")\n",
    "plt.title(\"Dist_Floodplain vs MIVI\")\n",
    "plt.legend()\n",
    "\n",
    "plt.show()"
   ]
  },
  {
   "cell_type": "code",
   "execution_count": 22,
   "id": "00efde97-f2c5-4ec5-bd96-2648321e4196",
   "metadata": {
    "tags": []
   },
   "outputs": [
    {
     "data": {
      "image/png": "[encoded data removed]",
      "text/plain": [
       "<Figure size 640x480 with 1 Axes>"
      ]
     },
     "metadata": {},
     "output_type": "display_data"
    }
   ],
   "source": [
    "plt.scatter(tempdf[\"Dist_Floodplain\"], tempdf[\"MIVI\"])\n",
    "\n",
    "#make features, target contain all rows except for observations along Riparian Buffer\n",
    "X = tempdf[\"Dist_Floodplain\"].values.reshape(-1, 1)\n",
    "y = tempdf[\"MIVI\"].values\n",
    "reg = LinearRegression()\n",
    "reg.fit(X, y)\n",
    "\n",
    "y_pred = reg.predict(X)\n",
    "\n",
    "plt.plot(X, y_pred, color='red', linewidth=2, label='Linear Regression Line')\n",
    "\n",
    "r_squared = r2_score(y, y_pred)\n",
    "\n",
    "plt.annotate(f'R-squared = {r_squared:.2f}', xy=(0.1, 0.9), xycoords='axes fraction', fontsize=12)\n",
    "\n",
    "plt.xlabel(\"Dist_Floodplain\")\n",
    "plt.ylabel(\"Invasive Cover Class\")\n",
    "plt.title(\"Dist_Floodplain vs MIVI without RB\")\n",
    "plt.legend()\n",
    "\n",
    "plt.show()"
   ]
  },
  {
   "cell_type": "code",
   "execution_count": 18,
   "id": "453296e1-10c6-4483-9936-860eea210e19",
   "metadata": {
    "tags": []
   },
   "outputs": [
    {
     "data": {
      "image/png": "[encoded data removed]",
      "text/plain": [
       "<Figure size 640x480 with 1 Axes>"
      ]
     },
     "metadata": {},
     "output_type": "display_data"
    }
   ],
   "source": [
    "#get rid of outlier far from floodplain\n",
    "\n",
    "idx = tempdf[\"Dist_Floodplain\"] > 1200 \n",
    "plt.scatter(tempdf.drop(tempdf[idx].index)[\"Dist_Floodplain\"], tempdf.drop(tempdf[idx].index)[\"overall_numeric\"])\n",
    "# Fit a linear regression model\n",
    "X = tempdf.drop(tempdf[idx].index)[\"Dist_Floodplain\"].values.reshape(-1, 1)\n",
    "y = tempdf.drop(tempdf[idx].index)[\"MIVI\"].values\n",
    "reg = LinearRegression()\n",
    "reg.fit(X, y)\n",
    "\n",
    "y_pred = reg.predict(X)\n",
    "\n",
    "# Plot the line of best fit\n",
    "plt.plot(X, y_pred, color='red', linewidth=2, label='Linear Regression Line')\n",
    "\n",
    "# Calculate the R-squared value\n",
    "r_squared = r2_score(y, y_pred)\n",
    "\n",
    "# Add the R-squared value to the plot\n",
    "plt.annotate(f'R-squared = {r_squared:.2f}', xy=(0.1, 0.9), xycoords='axes fraction', fontsize=12)\n",
    "\n",
    "# Add labels and a legend\n",
    "plt.xlabel(\"Dist_Floodplain\")\n",
    "plt.ylabel(\"Invasive Cover Class\")\n",
    "plt.title(\"Distance from Floodplain versus MIVI without idx 1\")\n",
    "plt.legend()\n",
    "\n",
    "# Show the plot\n",
    "plt.show()"
   ]
  },
  {
   "cell_type": "code",
   "execution_count": 20,
   "id": "737b8d36-eaa6-4063-afe3-f1d08dc1d9d9",
   "metadata": {
    "tags": []
   },
   "outputs": [
    {
     "data": {
      "text/html": [
       "<div>\n",
       "<style scoped>\n",
       "    .dataframe tbody tr th:only-of-type {\n",
       "        vertical-align: middle;\n",
       "    }\n",
       "\n",
       "    .dataframe tbody tr th {\n",
       "        vertical-align: top;\n",
       "    }\n",
       "\n",
       "    .dataframe thead th {\n",
       "        text-align: right;\n",
       "    }\n",
       "</style>\n",
       "<table border=\"1\" class=\"dataframe\">\n",
       "  <thead>\n",
       "    <tr style=\"text-align: right;\">\n",
       "      <th></th>\n",
       "      <th>Distance_Riparian_Buffer</th>\n",
       "      <th>Distance_Farmland</th>\n",
       "      <th>HID</th>\n",
       "      <th>overall_in</th>\n",
       "      <th>individual</th>\n",
       "      <th>EAF</th>\n",
       "      <th>Dist_Floodplain</th>\n",
       "      <th>conversion_1937_1957</th>\n",
       "      <th>conversion_1957_1974</th>\n",
       "      <th>conversion_1974_1996</th>\n",
       "      <th>evergreen_forest</th>\n",
       "      <th>overall_numeric</th>\n",
       "      <th>MIVI</th>\n",
       "    </tr>\n",
       "  </thead>\n",
       "  <tbody>\n",
       "    <tr>\n",
       "      <th>6</th>\n",
       "      <td>300.0</td>\n",
       "      <td>0.000000</td>\n",
       "      <td>258.0</td>\n",
       "      <td>25-50%</td>\n",
       "      <td>MIVI-2,LISE-1,ROMU-1,CAAC-2,LOJA-2,CEOR-3</td>\n",
       "      <td>32.571429</td>\n",
       "      <td>818.178278</td>\n",
       "      <td>0.0</td>\n",
       "      <td>0.0</td>\n",
       "      <td>99.999877</td>\n",
       "      <td>0.000000</td>\n",
       "      <td>3</td>\n",
       "      <td>2</td>\n",
       "    </tr>\n",
       "    <tr>\n",
       "      <th>8</th>\n",
       "      <td>300.0</td>\n",
       "      <td>173.037653</td>\n",
       "      <td>264.0</td>\n",
       "      <td>25-50%</td>\n",
       "      <td>RUPH-2,MIVI-3,LOJA-1,PATO-2,CEOR-1,ROMU-1,LISE-1</td>\n",
       "      <td>64.142857</td>\n",
       "      <td>675.009333</td>\n",
       "      <td>0.0</td>\n",
       "      <td>0.0</td>\n",
       "      <td>0.000000</td>\n",
       "      <td>0.000000</td>\n",
       "      <td>3</td>\n",
       "      <td>3</td>\n",
       "    </tr>\n",
       "    <tr>\n",
       "      <th>9</th>\n",
       "      <td>300.0</td>\n",
       "      <td>361.244783</td>\n",
       "      <td>265.0</td>\n",
       "      <td>5-25%</td>\n",
       "      <td>CEOR-2,MIVI-2,LISE-1,RUPH-1</td>\n",
       "      <td>45.309091</td>\n",
       "      <td>698.781851</td>\n",
       "      <td>0.0</td>\n",
       "      <td>0.0</td>\n",
       "      <td>0.000000</td>\n",
       "      <td>0.000000</td>\n",
       "      <td>2</td>\n",
       "      <td>2</td>\n",
       "    </tr>\n",
       "    <tr>\n",
       "      <th>10</th>\n",
       "      <td>300.0</td>\n",
       "      <td>522.854292</td>\n",
       "      <td>266.0</td>\n",
       "      <td>5-25%</td>\n",
       "      <td>CEOR-2,MIVI-2,LISE-1,RUPH-1</td>\n",
       "      <td>43.714286</td>\n",
       "      <td>580.959644</td>\n",
       "      <td>0.0</td>\n",
       "      <td>0.0</td>\n",
       "      <td>0.000000</td>\n",
       "      <td>4.782920</td>\n",
       "      <td>2</td>\n",
       "      <td>2</td>\n",
       "    </tr>\n",
       "    <tr>\n",
       "      <th>11</th>\n",
       "      <td>300.0</td>\n",
       "      <td>331.102949</td>\n",
       "      <td>267.0</td>\n",
       "      <td>5-25%</td>\n",
       "      <td>RUPH-1,CEOR-2,LOJA-1</td>\n",
       "      <td>61.739130</td>\n",
       "      <td>538.781197</td>\n",
       "      <td>0.0</td>\n",
       "      <td>0.0</td>\n",
       "      <td>0.000000</td>\n",
       "      <td>78.577919</td>\n",
       "      <td>2</td>\n",
       "      <td>0</td>\n",
       "    </tr>\n",
       "  </tbody>\n",
       "</table>\n",
       "</div>"
      ],
      "text/plain": [
       "    Distance_Riparian_Buffer  Distance_Farmland    HID overall_in  \\\n",
       "6                      300.0           0.000000  258.0     25-50%   \n",
       "8                      300.0         173.037653  264.0     25-50%   \n",
       "9                      300.0         361.244783  265.0      5-25%   \n",
       "10                     300.0         522.854292  266.0      5-25%   \n",
       "11                     300.0         331.102949  267.0      5-25%   \n",
       "\n",
       "                                          individual        EAF  \\\n",
       "6          MIVI-2,LISE-1,ROMU-1,CAAC-2,LOJA-2,CEOR-3  32.571429   \n",
       "8   RUPH-2,MIVI-3,LOJA-1,PATO-2,CEOR-1,ROMU-1,LISE-1  64.142857   \n",
       "9                        CEOR-2,MIVI-2,LISE-1,RUPH-1  45.309091   \n",
       "10                       CEOR-2,MIVI-2,LISE-1,RUPH-1  43.714286   \n",
       "11                              RUPH-1,CEOR-2,LOJA-1  61.739130   \n",
       "\n",
       "    Dist_Floodplain  conversion_1937_1957  conversion_1957_1974  \\\n",
       "6        818.178278                   0.0                   0.0   \n",
       "8        675.009333                   0.0                   0.0   \n",
       "9        698.781851                   0.0                   0.0   \n",
       "10       580.959644                   0.0                   0.0   \n",
       "11       538.781197                   0.0                   0.0   \n",
       "\n",
       "    conversion_1974_1996  evergreen_forest  overall_numeric  MIVI  \n",
       "6              99.999877          0.000000                3     2  \n",
       "8               0.000000          0.000000                3     3  \n",
       "9               0.000000          0.000000                2     2  \n",
       "10              0.000000          4.782920                2     2  \n",
       "11              0.000000         78.577919                2     0  "
      ]
     },
     "execution_count": 20,
     "metadata": {},
     "output_type": "execute_result"
    }
   ],
   "source": [
    "#import train_test_split and K_fold function \n",
    "\n",
    "from sklearn.model_selection import train_test_split as tts\n",
    "from intro_Data_4_3 import *\n",
    "tempdf.head()"
   ]
  },
  {
   "cell_type": "code",
   "execution_count": 21,
   "id": "438c268e-7a48-4a2a-ad5b-999eaa58c617",
   "metadata": {
    "tags": []
   },
   "outputs": [
    {
     "data": {
      "image/png": "[encoded data removed]",
      "text/plain": [
       "<Figure size 640x480 with 1 Axes>"
      ]
     },
     "metadata": {},
     "output_type": "display_data"
    }
   ],
   "source": [
    "#Check how many Principal Components explain variance within the dataset\n",
    "\n",
    "#import PCA and standard scaler\n",
    "from sklearn.decomposition import PCA\n",
    "from sklearn.preprocessing import StandardScaler as SS\n",
    "\n",
    "#define and scale the features\n",
    "X = np.array(df.drop(columns=['individual', 'overall_in','overall_numeric', 'HID']))\n",
    "y = np.array(df['MIVI'])\n",
    "ss = SS()\n",
    "X = ss.fit_transform(X)\n",
    "\n",
    "#calculate explained variance for each PC\n",
    "pca = PCA()\n",
    "pca.fit_transform(X)\n",
    "explained_variance = pca.explained_variance_ratio_\n",
    "\n",
    "#plot cumulative variance for each PC\n",
    "plt.plot(np.cumsum(explained_variance))\n",
    "plt.xlabel('Number of Components')\n",
    "plt.ylabel('Cumulative Explained Variance')\n",
    "plt.show()\n",
    "\n",
    "#plot does not show definitive elbow, suggesting all/most PCs should be used in ML"
   ]
  },
  {
   "cell_type": "code",
   "execution_count": 22,
   "id": "dd39f38c-001d-450b-a5b9-290b954549ed",
   "metadata": {
    "tags": []
   },
   "outputs": [
    {
     "name": "stdout",
     "output_type": "stream",
     "text": [
      "0.6428571428571429\n",
      "Test accuracy = 0.64\n"
     ]
    },
    {
     "data": {
      "text/plain": [
       "(Predicted  0  1  2  3  4\n",
       " Actual                  \n",
       " 1          1  1  0  0  0\n",
       " 2          0  1  1  0  0\n",
       " 3          0  0  1  4  1\n",
       " 4          0  0  1  0  3,\n",
       " 0.6428571428571429)"
      ]
     },
     "execution_count": 22,
     "metadata": {},
     "output_type": "execute_result"
    }
   ],
   "source": [
    "# Try first without outliers\n",
    "\n",
    "idx = tempdf[\"Dist_Floodplain\"] > 1200 \n",
    "tempdf = tempdf.drop(tempdf[idx].index) #get rid of outlier far from floodplain \n",
    "\n",
    "from sklearn.linear_model import LogisticRegression as LR\n",
    "from sklearn.preprocessing import StandardScaler as SS\n",
    "from sklearn.decomposition import PCA\n",
    "\n",
    "X = np.array(tempdf.drop(columns=['individual', 'overall_in','overall_numeric', 'HID']))\n",
    "y = np.array(tempdf['MIVI'])\n",
    "\n",
    "Xtrain,Xtest,ytrain,ytest = tts(X,y,test_size=0.4) #test size of 0.2 yielded better results, but K-fold with k=5 did not\n",
    "\n",
    "#scale data features\n",
    "ss = SS()\n",
    "Xtrain = ss.fit_transform(Xtrain)\n",
    "Xtest = ss.transform(Xtest)\n",
    "\n",
    "#all PCs necessary because of variance of all features accounting for MIVI invasion\n",
    "# PC = PCA(n_components = 2)\n",
    "# Xtrain = PC.fit_transform(Xtrain)\n",
    "# Xtest = PC.transform(Xtest)\n",
    "\n",
    "log = LR(solver = 'liblinear')\n",
    "log.fit(Xtrain,ytrain)\n",
    "y_pred = log.predict(Xtest)\n",
    "print(log.score(Xtest, ytest))\n",
    "\n",
    "matrix = compare_classes(y_pred, ytest)\n",
    "matrix"
   ]
  },
  {
   "cell_type": "code",
   "execution_count": 23,
   "id": "d5293617-cd86-4f63-8a69-c4fb26688110",
   "metadata": {
    "tags": []
   },
   "outputs": [
    {
     "name": "stdout",
     "output_type": "stream",
     "text": [
      "0.5217391304347826\n",
      "Test accuracy = 0.52\n"
     ]
    },
    {
     "data": {
      "text/plain": [
       "(Predicted  0  1  2  3  4\n",
       " Actual                  \n",
       " 1          1  0  0  0  0\n",
       " 2          0  3  1  1  0\n",
       " 3          0  0  2  6  1\n",
       " 4          0  0  0  3  5,\n",
       " 0.5217391304347826)"
      ]
     },
     "execution_count": 23,
     "metadata": {},
     "output_type": "execute_result"
    }
   ],
   "source": [
    "#For MIVI, more samples might be better\n",
    "\n",
    "X = np.array(df.drop(columns=['individual', 'overall_in','overall_numeric', 'HID']))\n",
    "y = np.array(df['MIVI'])\n",
    "\n",
    "Xtrain,Xtest,ytrain,ytest = tts(X,y,test_size=0.4)\n",
    "\n",
    "ss = SS()\n",
    "Xtrain = ss.fit_transform(Xtrain)\n",
    "Xtest = ss.transform(Xtest)\n",
    "\n",
    "#all PCs necessary because of variance of all features accounting for MIVI invasion\n",
    "\n",
    "log = LR(solver = 'liblinear')\n",
    "log.fit(Xtrain,ytrain)\n",
    "y_pred = log.predict(Xtest)\n",
    "print(log.score(Xtest, ytest))\n",
    "\n",
    "matrix = compare_classes(y_pred, ytest)\n",
    "matrix\n",
    "\n",
    "#more samples typically perform better for MIVI as target"
   ]
  },
  {
   "cell_type": "code",
   "execution_count": 24,
   "id": "487b5589-d0e9-4b59-a224-2babaf1a91c0",
   "metadata": {
    "tags": []
   },
   "outputs": [
    {
     "name": "stdout",
     "output_type": "stream",
     "text": [
      "0.8260869565217391\n",
      "Test accuracy = 0.83\n"
     ]
    },
    {
     "data": {
      "text/plain": [
       "(Predicted  0  1  2  3  4\n",
       " Actual                  \n",
       " 1          2  1  1  0  0\n",
       " 2          0  1  5  0  0\n",
       " 3          0  0  0  7  0\n",
       " 4          0  0  0  0  6,\n",
       " 0.8260869565217391)"
      ]
     },
     "execution_count": 24,
     "metadata": {},
     "output_type": "execute_result"
    }
   ],
   "source": [
    "#Try RFC\n",
    "\n",
    "from sklearn.ensemble import RandomForestClassifier as RFC\n",
    "X = np.array(df.drop(columns=['individual', 'overall_in','overall_numeric', 'HID']))\n",
    "y = np.array(df['MIVI'])\n",
    "\n",
    "Xtrain,Xtest,ytrain,ytest = tts(X,y,test_size=0.4)\n",
    "\n",
    "#all PCs necessary because of variance of all features accounting for MIVI invasion\n",
    "\n",
    "rfc = RFC() \n",
    "rfc.fit(Xtrain,ytrain)\n",
    "y_pred = rfc.predict(Xtest)\n",
    "print(rfc.score(Xtest, ytest))\n",
    "\n",
    "matrix = compare_classes(y_pred, ytest)\n",
    "matrix\n",
    "\n",
    "#performs much better, will optimize RFC params"
   ]
  },
  {
   "cell_type": "markdown",
   "id": "1a03d37b-2b34-4641-a2df-a11433cbd604",
   "metadata": {},
   "source": [
    "# RFC determine best hyperparams"
   ]
  },
  {
   "cell_type": "code",
   "execution_count": 25,
   "id": "6522b5c9-d6ff-4813-9d56-9ecb43939bf7",
   "metadata": {},
   "outputs": [],
   "source": [
    "min_samples_range = np.arange(2, 11)\n",
    "max_depth_range = np.arange(2, 11)\n",
    "columns = ['min_samples_range', 'max_depth_range', 'accuracy']\n",
    "scores = pd.DataFrame(columns = columns)\n",
    "for s in min_samples_range:\n",
    "    for m in max_depth_range:\n",
    "        rfc = RFC(min_samples_split = s, max_depth = m)\n",
    "        train_scores,test_scores = do_Kfold(rfc,X,y,5)\n",
    "        new_row = {'min_samples_range': s,'max_depth_range': m, 'accuracy': np.mean(np.array(test_scores))}\n",
    "        scores = pd.concat([scores, pd.DataFrame(new_row, index=[0])], ignore_index=True)"
   ]
  },
  {
   "cell_type": "code",
   "execution_count": 26,
   "id": "e4234073-8355-4479-a1c5-3befb290b6ea",
   "metadata": {
    "tags": []
   },
   "outputs": [
    {
     "data": {
      "text/plain": [
       "min_samples_range           2\n",
       "max_depth_range             9\n",
       "accuracy             0.928788\n",
       "Name: 7, dtype: object"
      ]
     },
     "execution_count": 26,
     "metadata": {},
     "output_type": "execute_result"
    }
   ],
   "source": [
    "scores.loc[scores['accuracy'].idxmax(),:]\n",
    "\n",
    "# min_samples_range           2\n",
    "# max_depth_range             8\n",
    "# accuracy             0.928788\n",
    "# Name: 6, dtype: object\n",
    "\n",
    "# min_samples_range           4\n",
    "# max_depth_range             9\n",
    "# accuracy             0.912121\n",
    "# Name: 25, dtype: object\n",
    "\n",
    "# min_samples_range           3\n",
    "# max_depth_range             4\n",
    "# accuracy             0.928788\n",
    "\n",
    "# min_samples_range           2\n",
    "# max_depth_range             5\n",
    "# accuracy             0.928788\n",
    "\n",
    "# min_samples_range           2\n",
    "# max_depth_range             8\n",
    "# accuracy             0.928788\n",
    "\n",
    "# consistently between 2-4, 5-9 respectively"
   ]
  },
  {
   "cell_type": "code",
   "execution_count": 27,
   "id": "423c2c46-fb50-4e61-b116-6d185e6f8af3",
   "metadata": {
    "tags": []
   },
   "outputs": [],
   "source": [
    "# narrower range, add more params\n",
    "n_est_range = np.arange(1,11) * 10\n",
    "min_samples_range = np.arange(2, 5)\n",
    "max_depth_range = np.arange(5, 10)\n",
    "columns = ['n_est_range','min_samples_range', 'max_depth_range', 'accuracy']\n",
    "scores = pd.DataFrame(columns = columns)\n",
    "for n in n_est_range:\n",
    "    for s in min_samples_range:\n",
    "        for m in max_depth_range:\n",
    "            rfc = RFC(n, min_samples_split = s, max_depth = m)\n",
    "            train_scores,test_scores = do_Kfold(rfc,X,y,5)\n",
    "            new_row = {'n_est_range': n,'min_samples_range': s,'max_depth_range': m, 'accuracy': np.mean(np.array(test_scores))}\n",
    "            scores = pd.concat([scores, pd.DataFrame(new_row, index=[0])], ignore_index=True)"
   ]
  },
  {
   "cell_type": "code",
   "execution_count": 28,
   "id": "7dbb4f98-2162-4965-b572-01cbf5d9be2f",
   "metadata": {
    "tags": []
   },
   "outputs": [
    {
     "data": {
      "text/plain": [
       "n_est_range                10\n",
       "min_samples_range           3\n",
       "max_depth_range             7\n",
       "accuracy             0.928788\n",
       "Name: 7, dtype: object"
      ]
     },
     "execution_count": 28,
     "metadata": {},
     "output_type": "execute_result"
    }
   ],
   "source": [
    "scores.loc[scores['accuracy'].idxmax(),:]\n",
    "#50\n",
    "#2\n",
    "#8\n",
    "#0.92\n",
    "\n",
    "# n_est_range               50\n",
    "# min_samples_range          4\n",
    "# max_depth_range            7\n",
    "# accuracy             0.94697\n",
    "\n",
    "# n_est_range               10\n",
    "# min_samples_range          3\n",
    "# max_depth_range            9\n",
    "# accuracy             0.94697\n",
    "\n",
    "# n_est_range                10\n",
    "# min_samples_range           4\n",
    "# max_depth_range             7\n",
    "# accuracy             0.965152\n",
    "# Name: 12, dtype: object\n",
    "\n",
    "# n_est_range                30\n",
    "# min_samples_range           2\n",
    "# max_depth_range             6\n",
    "# accuracy             0.930303\n",
    "\n",
    "# n_est_range                70\n",
    "# min_samples_range           3\n",
    "# max_depth_range             9\n",
    "# accuracy             0.928788\n",
    "\n",
    "# n_est_range               70\n",
    "# min_samples_range          2\n",
    "# max_depth_range            8\n",
    "# accuracy             0.94697\n",
    "\n",
    "# n_est_range               30\n",
    "# min_samples_range          2\n",
    "# max_depth_range            9\n",
    "# accuracy             0.94697\n",
    "\n",
    "# n_est_range               40\n",
    "# min_samples_range          2\n",
    "# max_depth_range            5\n",
    "# accuracy             0.94697\n",
    "\n",
    "#assume optimal min_samples to be 3\n",
    "#assume max_depth to be 7\n",
    "#n_est more vague, keep between 10-70"
   ]
  },
  {
   "cell_type": "code",
   "execution_count": 29,
   "id": "7a598954-d242-4db7-bba9-4ed865e1c927",
   "metadata": {},
   "outputs": [],
   "source": [
    "# set fixed params, add min_samples_leaf\n",
    "n_est_range = np.arange(1,8) * 10\n",
    "s = 3 #set min_samples\n",
    "m = 7 #set max_depth\n",
    "min_samples_leaf_range = np.arange(1,11)\n",
    "columns = ['n_est_range','min_samples_leaf_range', 'accuracy']\n",
    "scores = pd.DataFrame(columns = columns)\n",
    "for n in n_est_range:\n",
    "    for l in min_samples_leaf_range:\n",
    "        rfc = RFC(n, min_samples_split = s, max_depth = m, min_samples_leaf = l)\n",
    "        train_scores,test_scores = do_Kfold(rfc,X,y,5, random_state = 146)\n",
    "        new_row = {'n_est': n,'min_samples_leaf': l,'accuracy': np.mean(np.array(test_scores))}\n",
    "        scores = pd.concat([scores, pd.DataFrame(new_row, index=[0])], ignore_index=True)"
   ]
  },
  {
   "cell_type": "code",
   "execution_count": 30,
   "id": "5a120464-efdc-4ac2-acef-d30f14b8580f",
   "metadata": {
    "tags": []
   },
   "outputs": [
    {
     "data": {
      "text/plain": [
       "0.710995670995671"
      ]
     },
     "execution_count": 30,
     "metadata": {},
     "output_type": "execute_result"
    }
   ],
   "source": [
    "scores.loc[scores['accuracy'].idxmax(),:]\n",
    "\n",
    "# accuracy                  0.910606\n",
    "# n_est                         40.0\n",
    "# min_samples_leaf               1.0\n",
    "\n",
    "# accuracy                  0.910606\n",
    "# n_est                         40.0\n",
    "# min_samples_leaf               1.0\n",
    "#min_samples_leaf performs best at 1 (default) \n",
    "\n",
    "# n_est_range                    NaN\n",
    "# min_samples_leaf_range         NaN\n",
    "# accuracy                  0.912121\n",
    "# n_est                         50.0\n",
    "# min_samples_leaf               1.0\n",
    "\n",
    "np.mean(np.array(scores['accuracy'])) #avg accuracy of all iterations of tested parameters significantly decreases due to \n",
    "#less robust trees with high values of min_samples_leaf"
   ]
  },
  {
   "cell_type": "code",
   "execution_count": 31,
   "id": "d9c3c3ff-b4c4-409e-96f5-37ad19c6a0bd",
   "metadata": {
    "tags": []
   },
   "outputs": [],
   "source": [
    "#figure out n_est with set params\n",
    "n_est_range = np.arange(1,8) * 10\n",
    "s = 3 #set min_samples\n",
    "m = 7 #set max_depth\n",
    "l = 1 #set min_samples_leaf (default)\n",
    "columns = ['n_est', 'accuracy']\n",
    "scores = pd.DataFrame(columns = columns)\n",
    "for n in n_est_range:\n",
    "    rfc = RFC(n, min_samples_split = s, max_depth = m)\n",
    "    train_scores,test_scores = do_Kfold(rfc,X,y,5, random_state = 146)\n",
    "    new_row = {'n_est': n,'accuracy': np.mean(np.array(test_scores))}\n",
    "    scores = pd.concat([scores, pd.DataFrame(new_row, index=[0])], ignore_index=True)"
   ]
  },
  {
   "cell_type": "code",
   "execution_count": 32,
   "id": "f5411c84-a4dd-42ce-8cf1-450cdf44f3fc",
   "metadata": {
    "tags": []
   },
   "outputs": [
    {
     "name": "stdout",
     "output_type": "stream",
     "text": [
      "n_est             20\n",
      "accuracy    0.910606\n",
      "Name: 1, dtype: object\n"
     ]
    },
    {
     "data": {
      "text/plain": [
       "0.8727272727272727"
      ]
     },
     "execution_count": 32,
     "metadata": {},
     "output_type": "execute_result"
    }
   ],
   "source": [
    "print(scores.loc[scores['accuracy'].idxmax(),:])\n",
    "\n",
    "# accuracy                  0.94697\n",
    "# n_est                        70.0\n",
    "\n",
    "# n_est             20\n",
    "# accuracy    0.948485\n",
    "\n",
    "# n_est            20\n",
    "# accuracy    0.94697\n",
    "\n",
    "# n_est             40\n",
    "# accuracy    0.910606\n",
    "\n",
    "# n_est             30\n",
    "# accuracy    0.928788\n",
    "\n",
    "# n_est             30\n",
    "# accuracy    0.912121\n",
    "\n",
    "np.mean(np.array(scores['accuracy'])) #avg accuracy with set min_samples_leaf (and min_samples split and max_depth) again increases overall accuracy to high 80%\n",
    "\n",
    "#refine n_est range to between 20-40 to increase runtime"
   ]
  },
  {
   "cell_type": "code",
   "execution_count": 33,
   "id": "64bb3d2b-b2d0-443b-ae1e-9922156a018d",
   "metadata": {
    "tags": []
   },
   "outputs": [],
   "source": [
    "#refined n_est range\n",
    "n_est_range = np.arange(2,5) * 10\n",
    "s = 3 #set min_samples\n",
    "m = 7 #set max_depth\n",
    "columns = ['n_est', 'accuracy']\n",
    "scores = pd.DataFrame(columns = columns)\n",
    "for n in n_est_range:\n",
    "    rfc = RFC(n, min_samples_split = s, max_depth = m)\n",
    "    train_scores,test_scores = do_Kfold(rfc,X,y,5, random_state = 146)\n",
    "    new_row = {'n_est': n,'accuracy': np.mean(np.array(test_scores))}\n",
    "    scores = pd.concat([scores, pd.DataFrame(new_row, index=[0])], ignore_index=True)"
   ]
  },
  {
   "cell_type": "code",
   "execution_count": 34,
   "id": "a1bc1f73-825b-4e4b-b6cd-5eb63d212b93",
   "metadata": {
    "tags": []
   },
   "outputs": [
    {
     "data": {
      "text/html": [
       "<div>\n",
       "<style scoped>\n",
       "    .dataframe tbody tr th:only-of-type {\n",
       "        vertical-align: middle;\n",
       "    }\n",
       "\n",
       "    .dataframe tbody tr th {\n",
       "        vertical-align: top;\n",
       "    }\n",
       "\n",
       "    .dataframe thead th {\n",
       "        text-align: right;\n",
       "    }\n",
       "</style>\n",
       "<table border=\"1\" class=\"dataframe\">\n",
       "  <thead>\n",
       "    <tr style=\"text-align: right;\">\n",
       "      <th></th>\n",
       "      <th>n_est</th>\n",
       "      <th>accuracy</th>\n",
       "    </tr>\n",
       "  </thead>\n",
       "  <tbody>\n",
       "    <tr>\n",
       "      <th>0</th>\n",
       "      <td>20</td>\n",
       "      <td>0.874242</td>\n",
       "    </tr>\n",
       "    <tr>\n",
       "      <th>1</th>\n",
       "      <td>30</td>\n",
       "      <td>0.840909</td>\n",
       "    </tr>\n",
       "    <tr>\n",
       "      <th>2</th>\n",
       "      <td>40</td>\n",
       "      <td>0.842424</td>\n",
       "    </tr>\n",
       "  </tbody>\n",
       "</table>\n",
       "</div>"
      ],
      "text/plain": [
       "  n_est  accuracy\n",
       "0    20  0.874242\n",
       "1    30  0.840909\n",
       "2    40  0.842424"
      ]
     },
     "execution_count": 34,
     "metadata": {},
     "output_type": "execute_result"
    }
   ],
   "source": [
    "\n",
    "# n_est             40\n",
    "# accuracy    0.910606\n",
    "\n",
    "# n_est             40\n",
    "# accuracy    0.892424\n",
    "\n",
    "np.mean(np.array(scores['accuracy'])) \n",
    "scores\n",
    "\n",
    "#consistently shows 30 or 40 n_est as most optimal for highest accuracy \n",
    "#in the interest of preventing overfitting for future prediction outside of train/test data,\n",
    "#n_est = 30 "
   ]
  },
  {
   "cell_type": "markdown",
   "id": "b498f8de-b910-4c0d-bdfa-2c116eb369dc",
   "metadata": {},
   "source": [
    "# Optimized RFC \n",
    "shows k-fold average accuracies in mid to high 80s"
   ]
  },
  {
   "cell_type": "code",
   "execution_count": 35,
   "id": "800fcf50-5dc4-4d3c-a9fd-a2b355aa1b94",
   "metadata": {
    "tags": []
   },
   "outputs": [
    {
     "name": "stdout",
     "output_type": "stream",
     "text": [
      "0.8695652173913043\n",
      "Test accuracy = 0.87\n"
     ]
    },
    {
     "data": {
      "text/plain": [
       "(Predicted  1  2   3  4\n",
       " Actual                \n",
       " 1          0  1   0  0\n",
       " 2          1  5   0  0\n",
       " 3          0  0  10  1\n",
       " 4          0  0   0  5,\n",
       " 0.8695652173913043)"
      ]
     },
     "execution_count": 35,
     "metadata": {},
     "output_type": "execute_result"
    }
   ],
   "source": [
    "from sklearn.ensemble import RandomForestClassifier as RFC\n",
    "from sklearn.model_selection import train_test_split as tts\n",
    "\n",
    "X = np.array(df.drop(columns=['individual', 'overall_in','overall_numeric', 'HID']))\n",
    "y = np.array(df['MIVI'])\n",
    "\n",
    "Xtrain,Xtest,ytrain,ytest = tts(X,y,test_size=0.4, random_state = 146)\n",
    "\n",
    "#all PCs necessary because of variance of all features accounting for MIVI invasion\n",
    "\n",
    "rfc = RFC(30, min_samples_split = s, max_depth = m, random_state = 146) #min_samples_leaf is set to default\n",
    "rfc.fit(Xtrain,ytrain)\n",
    "y_pred = rfc.predict(Xtest)\n",
    "print(rfc.score(Xtest, ytest))\n",
    "\n",
    "matrix = compare_classes(y_pred, ytest)\n",
    "matrix    "
   ]
  },
  {
   "cell_type": "code",
   "execution_count": null,
   "id": "373227f2-7693-41b9-9338-bce3e124cb08",
   "metadata": {},
   "outputs": [],
   "source": []
  }
 ],
 "metadata": {
  "kernelspec": {
   "display_name": "Python 3 (ipykernel)",
   "language": "python",
   "name": "python3"
  },
  "language_info": {
   "codemirror_mode": {
    "name": "ipython",
    "version": 3
   },
   "file_extension": ".py",
   "mimetype": "text/x-python",
   "name": "python",
   "nbconvert_exporter": "python",
   "pygments_lexer": "ipython3",
   "version": "3.10.9"
  }
 },
 "nbformat": 4,
 "nbformat_minor": 5
}
